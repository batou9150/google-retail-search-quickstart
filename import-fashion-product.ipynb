{
 "metadata": {
  "language_info": {
   "codemirror_mode": {
    "name": "ipython",
    "version": 3
   },
   "file_extension": ".py",
   "mimetype": "text/x-python",
   "name": "python",
   "nbconvert_exporter": "python",
   "pygments_lexer": "ipython3",
   "version": "3.9.2-final"
  },
  "orig_nbformat": 2,
  "kernelspec": {
   "name": "python3",
   "display_name": "Python 3 (ipykernel)"
  }
 },
 "nbformat": 4,
 "nbformat_minor": 2,
 "cells": [
  {
   "cell_type": "code",
   "execution_count": null,
   "metadata": {},
   "outputs": [],
   "source": [
    "# Settings\n",
    "project_id = '<YOUR_PROJECT_ID>'\n",
    "project_number = '<YOUR_PROJECT_NUMBER>'\n",
    "branch_id = 1\n",
    "placement_id = 'default_catalog'\n",
    "\n",
    "#Catalog branch represents the version of your catalog\n",
    "branch = f'projects/{project_id}/locations/global/catalogs/default_catalog/branches/{branch_id}'\n",
    "\n",
    "# Catalog placement represents the search configs you're using on this catalog\n",
    "placement = f'projects/{project_id}/locations/global/catalogs/{placement_id}/placements/default_search'"
   ]
  },
  {
   "cell_type": "code",
   "execution_count": null,
   "metadata": {},
   "outputs": [],
   "source": [
    "import json\n",
    "import gzip\n",
    "\n",
    "from google.cloud import retail_v2\n",
    "import google.auth\n",
    "\n",
    "credentials,project = google.auth.default(quota_project_id=project_id)"
   ]
  },
  {
   "cell_type": "code",
   "execution_count": null,
   "metadata": {},
   "outputs": [],
   "source": [
    "def mapping_age_groups(age_groups):\n",
    "    return (age_groups.split('-')[0] if '-' in age_groups else age_groups).lower()\n",
    "\n",
    "def mapping_product(doc):\n",
    "    product=retail_v2.Product()\n",
    "    product.id = str(doc['id'])\n",
    "    # product.gtin\n",
    "    product.categories = [' > '.join([doc['masterCategory']['typeName'], doc['subCategory']['typeName'], doc['articleType']['typeName']])]\n",
    "    product.title = doc['productDisplayName']\n",
    "    product.brands = [doc['brandName']]\n",
    "    product.description = doc.get('productDescriptors', {}).get('description', {}).get('value')\n",
    "    # product.language_code\n",
    "    # product.attributes\n",
    "    # product.tags\n",
    "    product.price_info.price = doc['discountedPrice']\n",
    "    product.price_info.original_price = doc['price']\n",
    "    # product.rating\n",
    "    # product.expire_time\n",
    "    # product.ttl\n",
    "    # product.available_time\n",
    "    # product.availability\n",
    "    # product.available_quantity\n",
    "    # product.fulfillment_info\n",
    "    product.uri = 'http://localhost/' + doc['landingPageUrl']\n",
    "    product.audience.genders = [doc['gender'].lower()]\n",
    "    product.audience.age_groups = [mapping_age_groups(doc['ageGroup'])]\n",
    "    # product.colorInfo\n",
    "    # product.sizes\n",
    "    material = doc.get('productDescriptors', {}).get('materials_care_desc', {}).get('value')\n",
    "    if material:\n",
    "        product.materials = [material[0:199]]\n",
    "    # product.patterns\n",
    "    # product.conditions\n",
    "    # product.retrievable_fields\n",
    "    # product.publish_time\n",
    "    # product.promotions\n",
    "    for k, v in  doc['styleImages'].items():\n",
    "        if type(v) == dict and k != 'search':\n",
    "            image = retail_v2.Image()\n",
    "            image.uri = v['imageURL']\n",
    "            product.images.append(image)\n",
    "\n",
    "    return product"
   ]
  },
  {
   "cell_type": "code",
   "execution_count": null,
   "metadata": {},
   "outputs": [],
   "source": [
    "def import_file(filename):\n",
    "    # Create a client\n",
    "    client = retail_v2.ProductServiceClient(credentials=credentials)\n",
    "\n",
    "    try:\n",
    "        with gzip.open(filename, 'rt') as f:\n",
    "            for i, row in enumerate(f):\n",
    "                product = mapping_product(json.loads(row)['data'])\n",
    "                # print(product)\n",
    "                request = retail_v2.CreateProductRequest(\n",
    "                        parent=branch,\n",
    "                        product=product,\n",
    "                        product_id=product.id,\n",
    "                    )\n",
    "                # break\n",
    "                # send create product request\n",
    "                client.create_product(request=request)\n",
    "    except Exception as e:\n",
    "        print(e)\n",
    "        print(f'error : {filename}#L{i}')\n",
    "        return e"
   ]
  },
  {
   "cell_type": "code",
   "execution_count": null,
   "metadata": {
    "tags": []
   },
   "outputs": [],
   "source": [
    "files = [f'dataset-fashion-product/styles-{part:02d}.jsonl.gz' for part in range(1, 61)]\n",
    "\n",
    "from multiprocessing import Pool\n",
    "\n",
    "with Pool(5) as p:\n",
    "    print(p.map(import_file, files))"
   ]
  },
  {
   "cell_type": "code",
   "execution_count": null,
   "metadata": {},
   "outputs": [],
   "source": []
  }
 ]
}